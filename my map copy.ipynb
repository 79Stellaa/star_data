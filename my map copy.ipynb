{
 "cells": [
  {
   "cell_type": "markdown",
   "metadata": {
    "slideshow": {
     "slide_type": "slide"
    }
   },
   "source": [
    "We're going to get a shapefile of suburb boundaries from here:\n",
    "\n",
    "https://data.gov.au/dataset/ds-dga-91e70237-d9d1-4719-a82f-e71b811154c6/details"
   ]
  },
  {
   "cell_type": "code",
   "execution_count": 50,
   "metadata": {},
   "outputs": [],
   "source": [
    "import os\n",
    "import geopandas as gpd\n",
    "import shapely\n",
    "import matplotlib\n",
    "import matplotlib.pyplot as plt\n",
    "import numpy as np\n",
    "import pandas as pd\n",
    "\n",
    "from shapely.geometry import Point\n",
    "from shapely.geometry import Polygon\n",
    "\n",
    "\n",
    "\n",
    "shp_file_name = \"/Users/stella/1161/star_data/my map/GDA94/vic_localities.shp\"\n",
    "zip_file_name = \"vic_land_availability.zip\"\n",
    "web_file_path = (\n",
    "    \"https://discover.data.vic.gov.au/dataset/\"\n",
    ")\n",
    "filepath = \"bars-and-pubs-with-patron-capacity.csv\"\n"
   ]
  },
  {
   "cell_type": "code",
   "execution_count": 51,
   "metadata": {},
   "outputs": [
    {
     "name": "stdout",
     "output_type": "stream",
     "text": [
      "loading from file\n",
      "done\n"
     ]
    }
   ],
   "source": [
    "if os.path.isfile(\"bars-and-pubs-with-patron-capacity.csv\"):\n",
    "    filepath = \"bars-and-pubs-with-patron-capacity.csv\"\n",
    "    print(\"loading from file\")\n",
    "else:\n",
    "    filepath = \"http://www.osr.nsw.gov.au/sites/default/files/file_manager/penalty_data_set_0.csv\"\n",
    "    print(\"loading from the internet\")\n",
    "pub_data = pd.read_csv(filepath,skiprows=1)\n",
    "print(\"done\")"
   ]
  },
  {
   "cell_type": "code",
   "execution_count": 52,
   "metadata": {
    "slideshow": {
     "slide_type": "skip"
    }
   },
   "outputs": [],
   "source": [
    "%matplotlib inline\n",
    "plt.rcParams['figure.figsize'] = (20, 10)"
   ]
  },
  {
   "cell_type": "markdown",
   "metadata": {
    "slideshow": {
     "slide_type": "slide"
    }
   },
   "source": [
    "To get a load of shape files from data.gov.au, more specifically, [here](https://data.gov.au/dataset/nsw-suburb-locality-boundaries-psma-administrative-boundaries/resource/bf8b5180-fcea-44bd-bd76-af14cc4b0fe0)"
   ]
  },
  {
   "cell_type": "code",
   "execution_count": 53,
   "metadata": {},
   "outputs": [],
   "source": [
    "def unzip_zipfile(zipped_file_path, put_it_here=\".\"):\n",
    "    import zipfile\n",
    "    zip_of_suburbs = zipfile.ZipFile(zipped_file_path, 'r')\n",
    "    zip_of_suburbs.extractall(put_it_here)\n",
    "    zip_of_suburbs.close()"
   ]
  },
  {
   "cell_type": "code",
   "execution_count": 54,
   "metadata": {
    "tags": []
   },
   "outputs": [
    {
     "name": "stdout",
     "output_type": "stream",
     "text": [
      "loading from file\n",
      "done\n"
     ]
    }
   ],
   "source": [
    "# Get the data loaded. This is a bit complicated because it's online as a zip file.\n",
    "# If we don't have it right now, we need to get it and unzip it.\n",
    "if os.path.isfile(shp_file_name):\n",
    "    print(\"loading from file\")\n",
    "else:\n",
    "    if os.path.isfile(zip_file_name):\n",
    "        print(\"unzipping\")\n",
    "        unzip_zipfile(zip_file_name)\n",
    "    else:\n",
    "        import requests\n",
    "        print(\"loading from the internet\")\n",
    "        page = requests.get(web_file_path)\n",
    "        with open(zip_file_name, 'wb') as z:\n",
    "            z.write(page.content)\n",
    "        unzip_zipfile(zip_file_name)\n",
    "\n",
    "print(\"done\")"
   ]
  },
  {
   "cell_type": "markdown",
   "metadata": {
    "slideshow": {
     "slide_type": "slide"
    }
   },
   "source": [
    "#### Shapefiles are the format that a lot of GIS tools use.\n",
    "\n",
    "#### GIS means Geographic Information System\n",
    "\n",
    "pronounced: _gee eye ess_\n",
    "\n",
    "not pronounced: _jizz_"
   ]
  },
  {
   "cell_type": "code",
   "execution_count": 66,
   "metadata": {},
   "outputs": [
    {
     "data": {
      "text/html": [
       "<div>\n",
       "<style scoped>\n",
       "    .dataframe tbody tr th:only-of-type {\n",
       "        vertical-align: middle;\n",
       "    }\n",
       "\n",
       "    .dataframe tbody tr th {\n",
       "        vertical-align: top;\n",
       "    }\n",
       "\n",
       "    .dataframe thead th {\n",
       "        text-align: right;\n",
       "    }\n",
       "</style>\n",
       "<table border=\"1\" class=\"dataframe\">\n",
       "  <thead>\n",
       "    <tr style=\"text-align: right;\">\n",
       "      <th></th>\n",
       "      <th>Census yea</th>\n",
       "      <th>Block ID</th>\n",
       "      <th>Property I</th>\n",
       "      <th>Base prope</th>\n",
       "      <th>Building a</th>\n",
       "      <th>CLUE small</th>\n",
       "      <th>Trading na</th>\n",
       "      <th>Business a</th>\n",
       "      <th>Number of</th>\n",
       "      <th>Longitude</th>\n",
       "      <th>Latitude</th>\n",
       "      <th>location</th>\n",
       "      <th>geometry</th>\n",
       "    </tr>\n",
       "  </thead>\n",
       "  <tbody>\n",
       "    <tr>\n",
       "      <th>3394</th>\n",
       "      <td>2007</td>\n",
       "      <td>105</td>\n",
       "      <td>103301</td>\n",
       "      <td>103301</td>\n",
       "      <td>442-450 Elizabeth Street MELBOURNE 3000</td>\n",
       "      <td>Melbourne (CBD)</td>\n",
       "      <td>Fluid Oz Bar</td>\n",
       "      <td>450 Elizabeth Street MELBOURNE 3000</td>\n",
       "      <td>365</td>\n",
       "      <td>144.960868</td>\n",
       "      <td>-37.808309</td>\n",
       "      <td>-37.808309445012966, 144.96086818659967</td>\n",
       "      <td>POINT (144.961 -37.808)</td>\n",
       "    </tr>\n",
       "    <tr>\n",
       "      <th>609</th>\n",
       "      <td>2012</td>\n",
       "      <td>376</td>\n",
       "      <td>508976</td>\n",
       "      <td>110862</td>\n",
       "      <td>42 Courtney Street NORTH MELBOURNE 3051</td>\n",
       "      <td>North Melbourne</td>\n",
       "      <td>Metropolitan Hotel</td>\n",
       "      <td>42 Courtney Street NORTH MELBOURNE 3051</td>\n",
       "      <td>100</td>\n",
       "      <td>144.954099</td>\n",
       "      <td>-37.801430</td>\n",
       "      <td>-37.80143001585, 144.95409885662878</td>\n",
       "      <td>POINT (144.954 -37.801)</td>\n",
       "    </tr>\n",
       "    <tr>\n",
       "      <th>2949</th>\n",
       "      <td>2020</td>\n",
       "      <td>1103</td>\n",
       "      <td>558180</td>\n",
       "      <td>558180</td>\n",
       "      <td>Marvel Stadium 122-148 Harbour Esplanade DOCKL...</td>\n",
       "      <td>Docklands</td>\n",
       "      <td>Locker Room Club Bar</td>\n",
       "      <td>Part Ground 140 Harbour Esplanade DOCKLANDS VI...</td>\n",
       "      <td>500</td>\n",
       "      <td>144.947560</td>\n",
       "      <td>-37.816742</td>\n",
       "      <td>-37.81674197865, 144.94756024120727</td>\n",
       "      <td>POINT (144.948 -37.817)</td>\n",
       "    </tr>\n",
       "    <tr>\n",
       "      <th>2315</th>\n",
       "      <td>2013</td>\n",
       "      <td>85</td>\n",
       "      <td>105746</td>\n",
       "      <td>105746</td>\n",
       "      <td>183-265 La Trobe Street MELBOURNE 3000</td>\n",
       "      <td>Melbourne (CBD)</td>\n",
       "      <td>Hush Bar @ Melbourne Central</td>\n",
       "      <td>Shop 307, Level 3, 300 La Trobe Street MELBOUR...</td>\n",
       "      <td>200</td>\n",
       "      <td>144.962839</td>\n",
       "      <td>-37.810902</td>\n",
       "      <td>-37.8109017475, 144.96283887087478</td>\n",
       "      <td>POINT (144.963 -37.811)</td>\n",
       "    </tr>\n",
       "    <tr>\n",
       "      <th>1150</th>\n",
       "      <td>2018</td>\n",
       "      <td>66</td>\n",
       "      <td>105878</td>\n",
       "      <td>105878</td>\n",
       "      <td>242-244 Little Bourke Street MELBOURNE 3000</td>\n",
       "      <td>Melbourne (CBD)</td>\n",
       "      <td>Shanghai Club</td>\n",
       "      <td>Unit 1, Ground , 242 Little Bourke Street MELB...</td>\n",
       "      <td>209</td>\n",
       "      <td>144.965587</td>\n",
       "      <td>-37.812094</td>\n",
       "      <td>-37.81209405621503, 144.96558664045</td>\n",
       "      <td>POINT (144.966 -37.812)</td>\n",
       "    </tr>\n",
       "  </tbody>\n",
       "</table>\n",
       "</div>"
      ],
      "text/plain": [
       "      Census yea  Block ID  Property I  Base prope  \\\n",
       "3394        2007       105      103301      103301   \n",
       "609         2012       376      508976      110862   \n",
       "2949        2020      1103      558180      558180   \n",
       "2315        2013        85      105746      105746   \n",
       "1150        2018        66      105878      105878   \n",
       "\n",
       "                                             Building a       CLUE small  \\\n",
       "3394            442-450 Elizabeth Street MELBOURNE 3000  Melbourne (CBD)   \n",
       "609             42 Courtney Street NORTH MELBOURNE 3051  North Melbourne   \n",
       "2949  Marvel Stadium 122-148 Harbour Esplanade DOCKL...        Docklands   \n",
       "2315             183-265 La Trobe Street MELBOURNE 3000  Melbourne (CBD)   \n",
       "1150        242-244 Little Bourke Street MELBOURNE 3000  Melbourne (CBD)   \n",
       "\n",
       "                        Trading na  \\\n",
       "3394                  Fluid Oz Bar   \n",
       "609             Metropolitan Hotel   \n",
       "2949          Locker Room Club Bar   \n",
       "2315  Hush Bar @ Melbourne Central   \n",
       "1150                 Shanghai Club   \n",
       "\n",
       "                                             Business a  Number of  \\\n",
       "3394                450 Elizabeth Street MELBOURNE 3000        365   \n",
       "609             42 Courtney Street NORTH MELBOURNE 3051        100   \n",
       "2949  Part Ground 140 Harbour Esplanade DOCKLANDS VI...        500   \n",
       "2315  Shop 307, Level 3, 300 La Trobe Street MELBOUR...        200   \n",
       "1150  Unit 1, Ground , 242 Little Bourke Street MELB...        209   \n",
       "\n",
       "       Longitude   Latitude                                 location  \\\n",
       "3394  144.960868 -37.808309  -37.808309445012966, 144.96086818659967   \n",
       "609   144.954099 -37.801430      -37.80143001585, 144.95409885662878   \n",
       "2949  144.947560 -37.816742      -37.81674197865, 144.94756024120727   \n",
       "2315  144.962839 -37.810902       -37.8109017475, 144.96283887087478   \n",
       "1150  144.965587 -37.812094      -37.81209405621503, 144.96558664045   \n",
       "\n",
       "                     geometry  \n",
       "3394  POINT (144.961 -37.808)  \n",
       "609   POINT (144.954 -37.801)  \n",
       "2949  POINT (144.948 -37.817)  \n",
       "2315  POINT (144.963 -37.811)  \n",
       "1150  POINT (144.966 -37.812)  "
      ]
     },
     "execution_count": 66,
     "metadata": {},
     "output_type": "execute_result"
    }
   ],
   "source": [
    "burbs = gpd.GeoDataFrame.from_file(shp_file_name)\n",
    "burbs.set_crs(epsg=5234, inplace=True, allow_override=True) \n",
    "# https://epsg.io/8021\n",
    "# GDA2020 is the latest and least wrong coord set for Sydney\n",
    "burbs.sample(5)"
   ]
  },
  {
   "cell_type": "markdown",
   "metadata": {},
   "source": [
    "There are a bunch of junk columns in there. Normally I'd leave them in, but because we're going to be looking are this data in dataframes, I'll take them out so that it's easier on the eyes."
   ]
  },
  {
   "cell_type": "code",
   "execution_count": 67,
   "metadata": {
    "slideshow": {
     "slide_type": "slide"
    }
   },
   "outputs": [
    {
     "data": {
      "text/html": [
       "<div>\n",
       "<style scoped>\n",
       "    .dataframe tbody tr th:only-of-type {\n",
       "        vertical-align: middle;\n",
       "    }\n",
       "\n",
       "    .dataframe tbody tr th {\n",
       "        vertical-align: top;\n",
       "    }\n",
       "\n",
       "    .dataframe thead th {\n",
       "        text-align: right;\n",
       "    }\n",
       "</style>\n",
       "<table border=\"1\" class=\"dataframe\">\n",
       "  <thead>\n",
       "    <tr style=\"text-align: right;\">\n",
       "      <th></th>\n",
       "      <th>Census yea</th>\n",
       "      <th>Block ID</th>\n",
       "      <th>Property I</th>\n",
       "      <th>Base prope</th>\n",
       "      <th>Building a</th>\n",
       "      <th>CLUE small</th>\n",
       "      <th>Trading na</th>\n",
       "      <th>Business a</th>\n",
       "      <th>Number of</th>\n",
       "      <th>Longitude</th>\n",
       "      <th>Latitude</th>\n",
       "      <th>location</th>\n",
       "      <th>geometry</th>\n",
       "    </tr>\n",
       "  </thead>\n",
       "  <tbody>\n",
       "    <tr>\n",
       "      <th>0</th>\n",
       "      <td>2002</td>\n",
       "      <td>11</td>\n",
       "      <td>108972</td>\n",
       "      <td>108972</td>\n",
       "      <td>10-22 Spencer Street MELBOURNE 3000</td>\n",
       "      <td>Melbourne (CBD)</td>\n",
       "      <td>Explorers Inn</td>\n",
       "      <td>10-22 Spencer Street MELBOURNE 3000</td>\n",
       "      <td>50</td>\n",
       "      <td>144.955254</td>\n",
       "      <td>-37.820511</td>\n",
       "      <td>-37.82051068881513, 144.95525416628004</td>\n",
       "      <td>POINT (144.955 -37.821)</td>\n",
       "    </tr>\n",
       "    <tr>\n",
       "      <th>1</th>\n",
       "      <td>2002</td>\n",
       "      <td>14</td>\n",
       "      <td>103172</td>\n",
       "      <td>103172</td>\n",
       "      <td>31-39 Elizabeth Street MELBOURNE 3000</td>\n",
       "      <td>Melbourne (CBD)</td>\n",
       "      <td>Connells Tavern</td>\n",
       "      <td>35 Elizabeth Street MELBOURNE 3000</td>\n",
       "      <td>350</td>\n",
       "      <td>144.964322</td>\n",
       "      <td>-37.817426</td>\n",
       "      <td>-37.81742610667125, 144.964321660097</td>\n",
       "      <td>POINT (144.964 -37.817)</td>\n",
       "    </tr>\n",
       "  </tbody>\n",
       "</table>\n",
       "</div>"
      ],
      "text/plain": [
       "   Census yea  Block ID  Property I  Base prope  \\\n",
       "0        2002        11      108972      108972   \n",
       "1        2002        14      103172      103172   \n",
       "\n",
       "                              Building a       CLUE small       Trading na  \\\n",
       "0    10-22 Spencer Street MELBOURNE 3000  Melbourne (CBD)    Explorers Inn   \n",
       "1  31-39 Elizabeth Street MELBOURNE 3000  Melbourne (CBD)  Connells Tavern   \n",
       "\n",
       "                            Business a  Number of   Longitude   Latitude  \\\n",
       "0  10-22 Spencer Street MELBOURNE 3000         50  144.955254 -37.820511   \n",
       "1   35 Elizabeth Street MELBOURNE 3000        350  144.964322 -37.817426   \n",
       "\n",
       "                                 location                 geometry  \n",
       "0  -37.82051068881513, 144.95525416628004  POINT (144.955 -37.821)  \n",
       "1    -37.81742610667125, 144.964321660097  POINT (144.964 -37.817)  "
      ]
     },
     "execution_count": 67,
     "metadata": {},
     "output_type": "execute_result"
    }
   ],
   "source": [
    "cols_to_drop = [\"VIC_LOCA_1\", \"VIC_LOCA_3\", \"VIC_LOCA_4\",\"VIC_LOCA_5\",\"VIC_LOCA_7\", \"DT_RETIRE\"]\n",
    "burbs.drop(cols_to_drop, axis=1, inplace=True, errors=\"ignore\")\n",
    "burbs.head(2)"
   ]
  },
  {
   "cell_type": "markdown",
   "metadata": {},
   "source": [
    "Only uncomment this if you've got a fast computer and a lot of time!\n",
    "\n",
    "It makes the map at the top of this file."
   ]
  },
  {
   "cell_type": "code",
   "execution_count": 68,
   "metadata": {
    "slideshow": {
     "slide_type": "fragment"
    }
   },
   "outputs": [],
   "source": [
    "# burbs.geometry.plot()"
   ]
  },
  {
   "cell_type": "markdown",
   "metadata": {},
   "source": [
    "Let's pull out a single row, a single suburb, and look at it."
   ]
  },
  {
   "cell_type": "code",
   "execution_count": 69,
   "metadata": {
    "slideshow": {
     "slide_type": "slide"
    },
    "tags": []
   },
   "outputs": [
    {
     "name": "stdout",
     "output_type": "stream",
     "text": [
      "Census yea                                         2002\n",
      "Block ID                                             11\n",
      "Property I                                       108972\n",
      "Base prope                                       108972\n",
      "Building a          10-22 Spencer Street MELBOURNE 3000\n",
      "CLUE small                              Melbourne (CBD)\n",
      "Trading na                                Explorers Inn\n",
      "Business a          10-22 Spencer Street MELBOURNE 3000\n",
      "Number of                                            50\n",
      "Longitude                                    144.955254\n",
      "Latitude                                     -37.820511\n",
      "location         -37.82051068881513, 144.95525416628004\n",
      "geometry      POINT (144.95525416628 -37.8205106888151)\n",
      "Name: 0, dtype: object\n"
     ]
    },
    {
     "data": {
      "image/svg+xml": [
       "<svg xmlns=\"http://www.w3.org/2000/svg\" xmlns:xlink=\"http://www.w3.org/1999/xlink\" width=\"100.0\" height=\"100.0\" viewBox=\"143.95525416628 -38.8205106888151 2.0 2.0\" preserveAspectRatio=\"xMinYMin meet\"><g transform=\"matrix(1,0,0,-1,0,-75.6410213776302)\"><circle cx=\"144.95525416628\" cy=\"-37.8205106888151\" r=\"0.06\" stroke=\"#555555\" stroke-width=\"0.02\" fill=\"#66cc99\" opacity=\"0.6\" /></g></svg>"
      ],
      "text/plain": [
       "<POINT (144.955 -37.821)>"
      ]
     },
     "execution_count": 69,
     "metadata": {},
     "output_type": "execute_result"
    }
   ],
   "source": [
    "a = burbs.iloc[0]\n",
    "print(a)\n",
    "a.geometry"
   ]
  },
  {
   "cell_type": "code",
   "execution_count": 64,
   "metadata": {},
   "outputs": [
    {
     "data": {
      "text/plain": [
       "Text(618.6127659228742, 0.5, 'Latitude')"
      ]
     },
     "execution_count": 64,
     "metadata": {},
     "output_type": "execute_result"
    },
    {
     "data": {
      "image/png": "[encoded data removed]",
      "text/plain": [
       "<Figure size 2000x1000 with 1 Axes>"
      ]
     },
     "metadata": {},
     "output_type": "display_data"
    }
   ],
   "source": [
    "burbs.centroid.plot()\n",
    "plt.title(\"Pubs Locations\")\n",
    "plt.xlabel(\"Longitude\")\n",
    "plt.ylabel(\"Latitude\")"
   ]
  }
 ],
 "metadata": {
  "celltoolbar": "Slideshow",
  "kernelspec": {
   "display_name": "Python 3.10.4 64-bit",
   "language": "python",
   "name": "python3"
  },
  "language_info": {
   "codemirror_mode": {
    "name": "ipython",
    "version": 3
   },
   "file_extension": ".py",
   "mimetype": "text/x-python",
   "name": "python",
   "nbconvert_exporter": "python",
   "pygments_lexer": "ipython3",
   "version": "3.12.3"
  },
  "toc": {
   "colors": {
    "hover_highlight": "#DAA520",
    "navigate_num": "#000000",
    "navigate_text": "#333333",
    "running_highlight": "#FF0000",
    "selected_highlight": "#FFD700",
    "sidebar_border": "#EEEEEE",
    "wrapper_background": "#FFFFFF"
   },
   "moveMenuLeft": true,
   "nav_menu": {
    "height": "99px",
    "width": "252px"
   },
   "navigate_menu": true,
   "number_sections": true,
   "sideBar": true,
   "threshold": 4,
   "toc_cell": false,
   "toc_section_display": "block",
   "toc_window_display": false,
   "widenNotebook": false
  },
  "vscode": {
   "interpreter": {
    "hash": "cd1a4323fb379de9187160a9aa0337dabefd7009b5703fc03d0198e947213ff5"
   }
  }
 },
 "nbformat": 4,
 "nbformat_minor": 1
}
